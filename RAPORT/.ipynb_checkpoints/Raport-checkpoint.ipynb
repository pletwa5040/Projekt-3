{
 "cells": [
  {
   "cell_type": "markdown",
   "id": "209dc1ce-d429-4a9a-b061-3f9bf7466335",
   "metadata": {},
   "source": [
    "# TECHNIKI PROGRAMOWANIA - projekt 3\n",
    "### Hubert Kowalski 197811\n",
    "### Igor Kowalczyk 198008\n",
    "\n",
    "## Wykorzystane biblioteki:\n",
    "1. matplotplusplus (C++)\n",
    "2. audiofile (C++)\n",
    "3. pybind11 (C++)\n",
    "\n",
    "\n",
    "%%capture -> usuwa output w raporcie"
   ]
  },
  {
   "cell_type": "markdown",
   "id": "a449c334-949d-40e2-a5bd-427795016119",
   "metadata": {
    "jp-MarkdownHeadingCollapsed": true
   },
   "source": [
    "## Wizualizacja sygnału \n",
    "Wizualizacja sygnału z wykorzystaniem biblioteki MatPlotPlusPlus i AudioFile"
   ]
  },
  {
   "cell_type": "code",
   "execution_count": 10,
   "id": "54480ced-1f10-4182-9c8d-39e9a953778c",
   "metadata": {},
   "outputs": [],
   "source": [
    "%%capture\n",
    "import projekt3\n",
    "\n",
    "projekt3.show_audio()\n",
    "#Pokazuje plik audio o nazwie \"test-audio.wav\""
   ]
  },
  {
   "cell_type": "markdown",
   "id": "a34b2f9f-37f6-42bb-b4f8-2054bd426bb2",
   "metadata": {},
   "source": [
    "<img src=\"image/Orginal.bmp\" alt=\"Drawing\" style=\"width: 300px;\"/>"
   ]
  },
  {
   "cell_type": "markdown",
   "id": "2a32850d-ef3e-45b9-8876-212329d43ea1",
   "metadata": {
    "jp-MarkdownHeadingCollapsed": true
   },
   "source": [
    "## DFT i Transformata odwrotna\n",
    "Na podstawie sygnału sinusa ~25/30 Hz"
   ]
  },
  {
   "cell_type": "markdown",
   "id": "b685875a-7f4f-44b3-9557-1254ee7ce48f",
   "metadata": {},
   "source": [
    "### DFT"
   ]
  },
  {
   "cell_type": "code",
   "execution_count": 14,
   "id": "44fecff4-2570-44d2-bf58-f206a53cc00a",
   "metadata": {},
   "outputs": [],
   "source": [
    "%%capture\n",
    "import projekt3\n",
    "\n",
    "projekt3.DFT()\n",
    "# DFT sygnału z pliku dźwiękowego - \"test-audio.wav\""
   ]
  },
  {
   "cell_type": "markdown",
   "id": "17afba9b-fdfb-4399-b273-1b8e0d2e092e",
   "metadata": {},
   "source": [
    "<img src=\"image/dft.png\" alt=\"Drawing\" style=\"width: 300px;\"/>"
   ]
  },
  {
   "cell_type": "markdown",
   "id": "dd3b5fd2-784e-4e71-a81d-37d59aecfcf2",
   "metadata": {},
   "source": [
    "### IDFT"
   ]
  },
  {
   "cell_type": "code",
   "execution_count": 15,
   "id": "cc64ac53-a2e5-4b94-9cfc-8855c780c3ab",
   "metadata": {},
   "outputs": [],
   "source": [
    "%%capture\n",
    "import projekt3\n",
    "\n",
    "projekt3.IDFT()\n",
    "# IDFT sygnału z pliku dźwiękowego - \"test-audio.wav\""
   ]
  },
  {
   "cell_type": "markdown",
   "id": "9e4e69d7-be35-4023-92fe-234ffd885504",
   "metadata": {},
   "source": [
    "### DFT + IDFT"
   ]
  },
  {
   "cell_type": "code",
   "execution_count": 16,
   "id": "24b40906-2a5e-4e92-bfa4-67c0b84fcb69",
   "metadata": {},
   "outputs": [],
   "source": [
    "%%capture\n",
    "import projekt3\n",
    "\n",
    "projekt3.DFT_IDFT()"
   ]
  },
  {
   "cell_type": "markdown",
   "id": "069928bb-a762-4596-8b41-f8c2df9f24ba",
   "metadata": {},
   "source": [
    "<img src=\"image/dft_idft.png\" alt=\"Drawing\" style=\"width: 300px;\"/>"
   ]
  },
  {
   "cell_type": "markdown",
   "id": "940461b6-fcc2-4a9a-9288-0a58ce67777a",
   "metadata": {
    "jp-MarkdownHeadingCollapsed": true
   },
   "source": [
    "## Generowanie sygnałów"
   ]
  },
  {
   "cell_type": "markdown",
   "id": "1ae19bb4-922d-473d-9f94-a75702ae09a9",
   "metadata": {},
   "source": [
    "#### Sinus"
   ]
  },
  {
   "cell_type": "code",
   "execution_count": 19,
   "id": "c4e47592-cd41-4b6a-82f8-60614e6bd3df",
   "metadata": {
    "scrolled": true
   },
   "outputs": [],
   "source": [
    "%%capture\n",
    "import projekt3\n",
    "\n",
    "projekt3.sin(5)\n",
    "#Podajemy częstotliwość"
   ]
  },
  {
   "attachments": {},
   "cell_type": "markdown",
   "id": "8596b4ee-056e-40a0-87ba-ce7d85c2a4f4",
   "metadata": {},
   "source": [
    "<img src=\"image/sin.png\" alt=\"Drawing\" style=\"width: 300px;\"/>"
   ]
  },
  {
   "cell_type": "markdown",
   "id": "d70c5363-9eb9-43f8-8932-718c35422814",
   "metadata": {},
   "source": [
    "#### Cosinus"
   ]
  },
  {
   "cell_type": "code",
   "execution_count": 1,
   "id": "1bf1dee4-048a-4875-8567-eb88f791a1c0",
   "metadata": {},
   "outputs": [],
   "source": [
    "%%capture\n",
    "import projekt3\n",
    "\n",
    "projekt3.cos(5)\n",
    "#Podajemy częstotliwość"
   ]
  },
  {
   "cell_type": "markdown",
   "id": "3103760d-27d4-4388-820b-b67a17817fba",
   "metadata": {},
   "source": [
    "<img src=\"image/cos.png\" alt=\"Drawing\" style=\"width: 300px;\"/>"
   ]
  },
  {
   "cell_type": "markdown",
   "id": "3d776a6d-1a54-4842-ad61-4cf7aa6584e2",
   "metadata": {},
   "source": [
    "#### Prostokątny"
   ]
  },
  {
   "cell_type": "code",
   "execution_count": 3,
   "id": "420308a9-c9a7-429e-b3d5-6ea14b77866c",
   "metadata": {},
   "outputs": [],
   "source": [
    "%%capture\n",
    "import projekt3\n",
    "\n",
    "projekt3.prostokat(20)\n",
    "#Podajemy częstotliwość"
   ]
  },
  {
   "cell_type": "markdown",
   "id": "a620d2d7-a0b4-471a-b61b-7f648b682fdd",
   "metadata": {},
   "source": [
    "<img src=\"image/prostokat.png\" alt=\"Drawing\" style=\"width: 300px;\"/>"
   ]
  },
  {
   "cell_type": "markdown",
   "id": "bcd4f2c6-e8ed-42c7-b2e1-f1156c6f22df",
   "metadata": {},
   "source": [
    "#### Piłokształtny"
   ]
  },
  {
   "cell_type": "code",
   "execution_count": 4,
   "id": "7edd4835-c832-4eea-8d83-ea1880742d73",
   "metadata": {},
   "outputs": [],
   "source": [
    "%%capture\n",
    "import projekt3\n",
    "\n",
    "projekt3.pilo(10)\n",
    "#Podajemy częstotliwość"
   ]
  },
  {
   "cell_type": "markdown",
   "id": "7a871ca4-94ad-4530-bccc-9855e782435d",
   "metadata": {},
   "source": [
    "<img src=\"image/pilo.png\" alt=\"Drawing\" style=\"width: 300px;\"/>"
   ]
  },
  {
   "cell_type": "markdown",
   "id": "2e75820f-c106-41db-9081-e802c6ac3f9e",
   "metadata": {
    "jp-MarkdownHeadingCollapsed": true
   },
   "source": [
    "## Usuwanie wysokich częstotliwości z sygnału (korzystajac z DFT)"
   ]
  },
  {
   "cell_type": "markdown",
   "id": "8afbcc3e-59a7-4d2b-88c6-47af5310815f",
   "metadata": {},
   "source": [
    "#### Oryginalny sygnał"
   ]
  },
  {
   "cell_type": "code",
   "execution_count": 17,
   "id": "5c2ab2ec-2b67-4b58-ae63-f3f2460cb4de",
   "metadata": {},
   "outputs": [],
   "source": [
    "%%capture\n",
    "import projekt3\n",
    "\n",
    "projekt3.show_audio()\n",
    "# Wizualizacja sygnału z pliku dźwiękowego - \"test-audio.wav\""
   ]
  },
  {
   "cell_type": "markdown",
   "id": "79879e3e-b44f-42f8-b1c5-8c896906a990",
   "metadata": {},
   "source": [
    "<img src=\"image/Orginal.bmp\" alt=\"Drawing\" style=\"width: 300px;\"/>"
   ]
  },
  {
   "cell_type": "markdown",
   "id": "baf1c925-d825-47b4-9ff0-a13e50487717",
   "metadata": {},
   "source": [
    "#### Usunięte wysokie częstotliwości"
   ]
  },
  {
   "cell_type": "code",
   "execution_count": 21,
   "id": "f5386b60-b977-4d2d-910c-a500eca0dfc3",
   "metadata": {},
   "outputs": [],
   "source": [
    "%%capture\n",
    "import projekt3\n",
    "\n",
    "projekt3.remove_high_freq()\n",
    "# Usuwa wysokie częstotliwości z pliku dźwiękowego - \"test-audio..wav\""
   ]
  },
  {
   "cell_type": "markdown",
   "id": "618f41f0-f563-4c79-85f7-60e4150a4c7e",
   "metadata": {},
   "source": [
    "<img src=\"image/Remove high frequence, 2.0.bmp\" alt=\"Drawing\" style=\"width: 300px;\"/>"
   ]
  }
 ],
 "metadata": {
  "kernelspec": {
   "display_name": "Python 3 (ipykernel)",
   "language": "python",
   "name": "python3"
  },
  "language_info": {
   "codemirror_mode": {
    "name": "ipython",
    "version": 3
   },
   "file_extension": ".py",
   "mimetype": "text/x-python",
   "name": "python",
   "nbconvert_exporter": "python",
   "pygments_lexer": "ipython3",
   "version": "3.11.9"
  }
 },
 "nbformat": 4,
 "nbformat_minor": 5
}
